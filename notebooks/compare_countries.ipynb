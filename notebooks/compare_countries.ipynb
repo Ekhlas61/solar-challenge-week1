{
 "cells": [
  {
   "cell_type": "code",
   "execution_count": null,
   "id": "ed5101a6",
   "metadata": {},
   "outputs": [],
   "source": [
    "# Import libraries\n",
    "import pandas as pd\n",
    "import seaborn as sns\n",
    "import matplotlib.pyplot as plt\n",
    "from scipy.stats import f_oneway\n",
    "\n",
    "# Load cleaned data\n",
    "benin = pd.read_csv('../data/benin_clean.csv')\n",
    "togo = pd.read_csv('../data/togo_clean.csv')\n",
    "sierra = pd.read_csv('../data/sierra_leone_clean.csv')\n",
    "\n",
    "# Add country column and concatenate\n",
    "benin['country'] = 'Benin'\n",
    "togo['country'] = 'Togo'\n",
    "sierra['country'] = 'Sierra Leone'\n",
    "df = pd.concat([benin, togo, sierra])\n",
    "\n",
    "# Boxplots for GHI, DNI, DHI\n",
    "sns.boxplot(data=df, x='country', y='GHI')\n",
    "plt.title('GHI Distribution by Country')\n",
    "plt.show()\n",
    "\n",
    "sns.boxplot(data=df, x='country', y='DNI')\n",
    "plt.title('DNI Distribution by Country')\n",
    "plt.show()\n",
    "\n",
    "sns.boxplot(data=df, x='country', y='DHI')\n",
    "plt.title('DHI Distribution by Country')\n",
    "plt.show()\n",
    "\n",
    "# Summary statistics\n",
    "print(\"Summary Statistics:\\n\", df.groupby('country')[['GHI', 'DNI', 'DHI']].agg(['mean', 'median', 'std']))\n",
    "\n",
    "# ANOVA for GHI\n",
    "f_stat, p_val = f_oneway(benin['GHI'], togo['GHI'], sierra['GHI'])\n",
    "print(f\"\\nANOVA test for GHI:\\nF-statistic = {f_stat:.2f}, p-value = {p_val:.4f}\")\n",
    "if p_val < 0.05:\n",
    "    print(\"→ Statistically significant difference in GHI between countries.\")\n",
    "else:\n",
    "    print(\"→ No significant difference in GHI between countries.\")\n",
    "\n",
    "# Bar chart of average GHI\n",
    "df.groupby('country')['GHI'].mean().sort_values().plot(kind='bar', title='Average GHI by Country')\n",
    "plt.ylabel('Average GHI')\n",
    "plt.show()\n"
   ]
  }
 ],
 "metadata": {
  "language_info": {
   "name": "python"
  }
 },
 "nbformat": 4,
 "nbformat_minor": 5
}
